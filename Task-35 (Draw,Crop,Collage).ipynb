{
 "cells": [
  {
   "cell_type": "markdown",
   "id": "f03db1ae",
   "metadata": {},
   "source": [
    "Importing basic libraries for this task"
   ]
  },
  {
   "cell_type": "code",
   "execution_count": 1,
   "id": "47cb0319",
   "metadata": {
    "scrolled": true
   },
   "outputs": [],
   "source": [
    "import cv2\n",
    "import numpy as np"
   ]
  },
  {
   "cell_type": "markdown",
   "id": "3affe18f",
   "metadata": {},
   "source": [
    "Task 1: Draw Photo Using OpenCV and Numpy"
   ]
  },
  {
   "cell_type": "code",
   "execution_count": 2,
   "id": "8a771850",
   "metadata": {
    "scrolled": true
   },
   "outputs": [],
   "source": [
    "s = np.zeros((800,800,3))\n",
    "# for drawing face\n",
    "circle_image = cv2.circle(s,(450,450),300,(0,255,255),-2)\n",
    "# for drawing eyes\n",
    "retina1 = cv2.circle(s,(360,390) ,15,(0,0,0),-2)\n",
    "retina2 = cv2.circle(s,(525,390) ,15,(0,0,0),-2)\n",
    "\n",
    "# for drawing mouth \n",
    "mouth = cv2.rectangle(s,(400,535) , (440,570),(1,1,1),-1)\n",
    "mouth = cv2.rectangle(s,(400,535) , (485,570),(1,1,1),-1)\n",
    "\n",
    "cv2.imshow(\"Image1\",s)\n",
    "cv2.waitKey()\n",
    "cv2.destroyAllWindows()"
   ]
  },
  {
   "cell_type": "markdown",
   "id": "dd3c0962",
   "metadata": {},
   "source": [
    "Task 2: Swap face Of Person From Two Images"
   ]
  },
  {
   "cell_type": "code",
   "execution_count": 3,
   "id": "5514587f",
   "metadata": {},
   "outputs": [],
   "source": [
    "# reading image\n",
    "peter = cv2.imread(\"peter.jpeg\")\n",
    "\n",
    "# showing image\n",
    "cv2.imshow(\"peter\",peter)\n",
    "cv2.waitKey()\n",
    "cv2.destroyAllWindows()"
   ]
  },
  {
   "cell_type": "code",
   "execution_count": 4,
   "id": "9266b8d4",
   "metadata": {},
   "outputs": [
    {
     "data": {
      "text/plain": [
       "(190, 140, 3)"
      ]
     },
     "execution_count": 4,
     "metadata": {},
     "output_type": "execute_result"
    }
   ],
   "source": [
    "# cropping image\n",
    "ab1 = 80\n",
    "ab2 = 25\n",
    "ab3 = 220\n",
    "ab4 = 215\n",
    "peterF = peter[ab2:ab4,ab1:ab3]\n",
    "\n",
    "cv2.imshow(\"peter\",peterF)\n",
    "cv2.waitKey()\n",
    "cv2.destroyAllWindows()\n",
    "\n",
    "#shape of an image\n",
    "peterF.shape"
   ]
  },
  {
   "cell_type": "code",
   "execution_count": 5,
   "id": "afcaf096",
   "metadata": {},
   "outputs": [],
   "source": [
    "zack = cv2.imread(\"zack.jpg\")\n",
    "\n",
    "cv2.imshow(\"zack\",zack)\n",
    "cv2.waitKey()\n",
    "\n",
    "cv2.destroyAllWindows()"
   ]
  },
  {
   "cell_type": "code",
   "execution_count": 6,
   "id": "43daaa05",
   "metadata": {},
   "outputs": [
    {
     "data": {
      "text/plain": [
       "(190, 140, 3)"
      ]
     },
     "execution_count": 6,
     "metadata": {},
     "output_type": "execute_result"
    }
   ],
   "source": [
    "# cropping image\n",
    "ab1 = 50\n",
    "ab2 = 5\n",
    "ab3 = 190\n",
    "ab4 = 195\n",
    "zackF = zack[ab2:ab4,ab1:ab3]\n",
    "\n",
    "cv2.imshow(\"zack\",zackF)\n",
    "cv2.waitKey()\n",
    "cv2.destroyAllWindows()\n",
    "\n",
    "#shape of an image\n",
    "zackF.shape"
   ]
  },
  {
   "cell_type": "code",
   "execution_count": 7,
   "id": "628f8ff0",
   "metadata": {},
   "outputs": [],
   "source": [
    "# swapping faces\n",
    "peter = cv2.imread(\"peter.jpeg\")\n",
    "peter[ab2:ab4,ab1:ab3] =  zackF\n",
    "cv2.imshow(\"peter\",peter)\n",
    "cv2.waitKey()\n",
    "cv2.destroyAllWindows()"
   ]
  },
  {
   "cell_type": "code",
   "execution_count": 8,
   "id": "7b7bb763",
   "metadata": {},
   "outputs": [],
   "source": [
    "# swapping faces\n",
    "zack = cv2.imread(\"zack.jpg\")\n",
    "zack[ab2:ab4,ab1:ab3] =  peterF\n",
    "cv2.imshow(\"zack\",zack)\n",
    "cv2.waitKey()\n",
    "cv2.destroyAllWindows()"
   ]
  },
  {
   "cell_type": "markdown",
   "id": "f223e7f3",
   "metadata": {},
   "source": [
    "Task 3: Creating Collage Of Two Images"
   ]
  },
  {
   "cell_type": "code",
   "execution_count": 9,
   "id": "c993a398",
   "metadata": {},
   "outputs": [],
   "source": [
    "image1 = cv2.imread('n1.jpg') \n",
    "\n",
    "image2 = cv2.imread('n1.jpg')\n",
    "#horizontal collage\n",
    "horizontal_collage = np.hstack((image1,image2))\n",
    "cv2.imshow(\"horizontal_collage\", horizontal_collage)\n",
    "cv2.waitKey()\n",
    "cv2.destroyAllWindows()\n",
    "\n",
    "#vertical collage\n",
    "vertical_collage = np.vstack((image1,image2))\n",
    "cv2.imshow(\"vertical_collage\",vertical_collage )\n",
    "cv2.waitKey()\n",
    "cv2.destroyAllWindows()"
   ]
  },
  {
   "cell_type": "code",
   "execution_count": null,
   "id": "4ca6cfdd",
   "metadata": {},
   "outputs": [],
   "source": []
  }
 ],
 "metadata": {
  "kernelspec": {
   "display_name": "Python 3",
   "language": "python",
   "name": "python3"
  },
  "language_info": {
   "codemirror_mode": {
    "name": "ipython",
    "version": 3
   },
   "file_extension": ".py",
   "mimetype": "text/x-python",
   "name": "python",
   "nbconvert_exporter": "python",
   "pygments_lexer": "ipython3",
   "version": "3.8.5"
  }
 },
 "nbformat": 4,
 "nbformat_minor": 5
}
